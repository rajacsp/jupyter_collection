{
 "cells": [
  {
   "cell_type": "code",
   "execution_count": 1,
   "metadata": {},
   "outputs": [
    {
     "name": "stdout",
     "output_type": "stream",
     "text": [
      "Logistic Regression:  1.0\n",
      "Logistic Regression:  1.0\n",
      "Logistic Regression:  0.5\n",
      "Logistic Regression:  0.5\n",
      "Logistic Regression:  0.525\n",
      "Logistic Regression:  0.525\n"
     ]
    }
   ],
   "source": [
    "from sklearn.linear_model import LogisticRegression\n",
    "import numpy as np\n",
    "\n",
    "clf1 = LogisticRegression(penalty='l2',C=1e9) # very weak l2-regularization\n",
    "y = np.zeros(1000)\n",
    "y[500:] = 1.\n",
    "\n",
    "x1 = np.linspace(0,1,2000)\n",
    "x1[1000:] = np.linspace(0,1,1000)\n",
    "x1[1500:] = np.linspace(0,1,500)\n",
    "x1 = x1.reshape((1000,2))\n",
    "\n",
    "x2 = np.ones((2000, 1))\n",
    "x2[500:] = np.full((1500,1), -3)\n",
    "x2[1000:] = np.full((1000,1), -1)\n",
    "x2 = x2.reshape(1000,2)\n",
    "\n",
    "x3 = np.random.randint(0,100,2000).reshape(1000,2)\n",
    "\n",
    "\n",
    "for dataset in [x1,x2,x3]:\n",
    "    for i in range(2):\n",
    "            print (\"Logistic Regression: \", round(clf1.fit(dataset,y).score(dataset,y),3))"
   ]
  },
  {
   "cell_type": "code",
   "execution_count": null,
   "metadata": {},
   "outputs": [],
   "source": []
  }
 ],
 "metadata": {
  "kernelspec": {
   "display_name": "Python 3",
   "language": "python",
   "name": "python3"
  },
  "language_info": {
   "codemirror_mode": {
    "name": "ipython",
    "version": 3
   },
   "file_extension": ".py",
   "mimetype": "text/x-python",
   "name": "python",
   "nbconvert_exporter": "python",
   "pygments_lexer": "ipython3",
   "version": "3.6.5"
  }
 },
 "nbformat": 4,
 "nbformat_minor": 2
}
