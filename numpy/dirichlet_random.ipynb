{
 "cells": [
  {
   "cell_type": "code",
   "execution_count": 3,
   "metadata": {},
   "outputs": [],
   "source": [
    "import numpy as np, numpy.random\n"
   ]
  },
  {
   "cell_type": "code",
   "execution_count": 5,
   "metadata": {},
   "outputs": [
    {
     "name": "stdout",
     "output_type": "stream",
     "text": [
      "[[0.01995538 0.03187494 0.03495422 0.01980338 0.29116926 0.07612487\n",
      "  0.32085126 0.05969337 0.06969719 0.07587614]]\n"
     ]
    }
   ],
   "source": [
    "print(np.random.dirichlet(np.ones(10),size=1))"
   ]
  },
  {
   "cell_type": "code",
   "execution_count": 8,
   "metadata": {},
   "outputs": [
    {
     "name": "stdout",
     "output_type": "stream",
     "text": [
      "[[0.10052771 0.09978181 0.09962137 0.09976773 0.10012546 0.09945077\n",
      "  0.10000953 0.09988465 0.10081356 0.10001741]\n",
      " [0.09992705 0.10021956 0.09978074 0.10001979 0.09989566 0.09974971\n",
      "  0.0999382  0.1001049  0.10046965 0.09989475]]\n"
     ]
    }
   ],
   "source": [
    "print(np.random.dirichlet(np.ones(10) * 100000,size=2))"
   ]
  },
  {
   "cell_type": "code",
   "execution_count": 15,
   "metadata": {},
   "outputs": [
    {
     "data": {
      "text/plain": [
       "<BarContainer object of 20 artists>"
      ]
     },
     "execution_count": 15,
     "metadata": {},
     "output_type": "execute_result"
    },
    {
     "data": {
      "image/png": "[encoded data removed]",
      "text/plain": [
       "<Figure size 432x288 with 1 Axes>"
      ]
     },
     "metadata": {},
     "output_type": "display_data"
    }
   ],
   "source": [
    "import matplotlib.pyplot as plt\n",
    "\n",
    "s = np.random.dirichlet((10, 5, 3), 20).transpose()\n",
    "plt.barh(range(20), s[0])"
   ]
  },
  {
   "cell_type": "code",
   "execution_count": null,
   "metadata": {},
   "outputs": [],
   "source": []
  }
 ],
 "metadata": {
  "kernelspec": {
   "display_name": "Python 3",
   "language": "python",
   "name": "python3"
  },
  "language_info": {
   "codemirror_mode": {
    "name": "ipython",
    "version": 3
   },
   "file_extension": ".py",
   "mimetype": "text/x-python",
   "name": "python",
   "nbconvert_exporter": "python",
   "pygments_lexer": "ipython3",
   "version": "3.6.5"
  }
 },
 "nbformat": 4,
 "nbformat_minor": 2
}
