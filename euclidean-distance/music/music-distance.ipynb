{
 "cells": [
  {
   "cell_type": "code",
   "execution_count": 1,
   "metadata": {},
   "outputs": [],
   "source": [
    "import pandas\n",
    "import math\n",
    "import sys\n",
    "import numpy as np"
   ]
  },
  {
   "cell_type": "code",
   "execution_count": 2,
   "metadata": {},
   "outputs": [],
   "source": [
    " '''\n",
    "    constants\n",
    "'''\n",
    "TOP_PLAYERS_COUNT = 3"
   ]
  },
  {
   "cell_type": "code",
   "execution_count": 3,
   "metadata": {},
   "outputs": [],
   "source": [
    "with open(\"music.csv\", 'r') as csvfile:\n",
    "    music = pandas.read_csv(csvfile)"
   ]
  },
  {
   "cell_type": "code",
   "execution_count": 4,
   "metadata": {},
   "outputs": [
    {
     "name": "stdout",
     "output_type": "stream",
     "text": [
      "['player' 'movies' 'songs' 'theme_songs' 'albums' 'national_awards'\n",
      " 'other_awards' 'sung' 'stage_performance']\n"
     ]
    }
   ],
   "source": [
    "print(music.columns.values)"
   ]
  },
  {
   "cell_type": "code",
   "execution_count": 5,
   "metadata": {},
   "outputs": [],
   "source": [
    "# Select ilayaraaja from our dataset\n",
    "selected_player = music[music[\"player\"] == \"Ilayaraaja\"].iloc[0]"
   ]
  },
  {
   "cell_type": "code",
   "execution_count": 6,
   "metadata": {},
   "outputs": [
    {
     "name": "stdout",
     "output_type": "stream",
     "text": [
      "player               Ilayaraaja\n",
      "movies                     4000\n",
      "songs                     15000\n",
      "theme_songs                 500\n",
      "albums                        8\n",
      "national_awards              65\n",
      "other_awards                250\n",
      "sung                       1500\n",
      "stage_performance          1500\n",
      "Name: 0, dtype: object\n"
     ]
    }
   ],
   "source": [
    "print(selected_player)"
   ]
  },
  {
   "cell_type": "code",
   "execution_count": 7,
   "metadata": {},
   "outputs": [],
   "source": [
    "# Choose only the numeric columns (we'll use these to compute euclidean distance)\n",
    "distance_columns = [\n",
    "    'movies',\n",
    "    'songs',\n",
    "    'theme_songs',\n",
    "    'albums',\n",
    "    'national_awards',\n",
    "    'other_awards',\n",
    "    'sung',\n",
    "    'stage_performance'\n",
    "]"
   ]
  },
  {
   "cell_type": "code",
   "execution_count": 8,
   "metadata": {},
   "outputs": [
    {
     "data": {
      "text/plain": [
       "['movies',\n",
       " 'songs',\n",
       " 'theme_songs',\n",
       " 'albums',\n",
       " 'national_awards',\n",
       " 'other_awards',\n",
       " 'sung',\n",
       " 'stage_performance']"
      ]
     },
     "execution_count": 8,
     "metadata": {},
     "output_type": "execute_result"
    }
   ],
   "source": [
    "distance_columns"
   ]
  },
  {
   "cell_type": "code",
   "execution_count": 9,
   "metadata": {},
   "outputs": [],
   "source": [
    "def euclidean_distance(row):\n",
    "    \"\"\"\n",
    "    A simple euclidean distance function\n",
    "    \"\"\"\n",
    "    inner_value = 0\n",
    "    for k in distance_columns:\n",
    "        inner_value += (row[k] - selected_player[k]) ** 2\n",
    "    return math.sqrt(inner_value)"
   ]
  },
  {
   "cell_type": "code",
   "execution_count": 10,
   "metadata": {},
   "outputs": [],
   "source": [
    "# Select only the numeric columns from the music dataset\n",
    "music_numeric = music[distance_columns]"
   ]
  },
  {
   "cell_type": "code",
   "execution_count": 11,
   "metadata": {},
   "outputs": [
    {
     "name": "stdout",
     "output_type": "stream",
     "text": [
      "   movies  songs  theme_songs  albums  national_awards  other_awards  sung  \\\n",
      "0    4000  15000          500       8               65           250  1500   \n",
      "1     600   6000          420       6               45           120   600   \n",
      "2     400   7000          120       2               24            14   700   \n",
      "3     120   6000          110       1               12            12   500   \n",
      "4      90   1200           60       1               11            35   140   \n",
      "\n",
      "   stage_performance  \n",
      "0               1500  \n",
      "1                700  \n",
      "2                600  \n",
      "3                400  \n",
      "4                120  \n"
     ]
    }
   ],
   "source": [
    "print(music_numeric)"
   ]
  },
  {
   "cell_type": "code",
   "execution_count": 12,
   "metadata": {},
   "outputs": [],
   "source": [
    "# Normalize all of the numeric columns\n",
    "music_normalized = (music_numeric - music_numeric.mean()) / music_numeric.std()"
   ]
  },
  {
   "cell_type": "code",
   "execution_count": 13,
   "metadata": {},
   "outputs": [
    {
     "name": "stdout",
     "output_type": "stream",
     "text": [
      "     movies     songs  theme_songs    albums  national_awards  other_awards  \\\n",
      "0  1.774595  1.594937     1.275416  1.370989         1.445512      1.611764   \n",
      "1 -0.265169 -0.208384     0.879938  0.747812         0.585088      0.332586   \n",
      "2 -0.385155 -0.008015    -0.603104 -0.498542        -0.318357     -0.710436   \n",
      "3 -0.553136 -0.208384    -0.652538 -0.810130        -0.834611     -0.730116   \n",
      "4 -0.571134 -1.170155    -0.899712 -0.810130        -0.877632     -0.503799   \n",
      "\n",
      "       sung  stage_performance  \n",
      "0  1.621666           1.616444  \n",
      "1 -0.175747           0.069608  \n",
      "2  0.023966          -0.123747  \n",
      "3 -0.375460          -0.510456  \n",
      "4 -1.094425          -1.051849  \n"
     ]
    }
   ],
   "source": [
    "print(music_normalized)"
   ]
  },
  {
   "cell_type": "code",
   "execution_count": 14,
   "metadata": {},
   "outputs": [],
   "source": [
    "from scipy.spatial import distance"
   ]
  },
  {
   "cell_type": "code",
   "execution_count": 15,
   "metadata": {},
   "outputs": [],
   "source": [
    "# Fill in NA values in music_normalized\n",
    "music_normalized.fillna(0, inplace=True)"
   ]
  },
  {
   "cell_type": "code",
   "execution_count": 16,
   "metadata": {},
   "outputs": [],
   "source": [
    "# Find the normalized vector for ilayaraaja .\n",
    "ilayaraaja_normalized = music_normalized[music[\"player\"] == \"Ilayaraaja\"]"
   ]
  },
  {
   "cell_type": "code",
   "execution_count": 17,
   "metadata": {},
   "outputs": [
    {
     "data": {
      "text/html": [
       "<div>\n",
       "<style scoped>\n",
       "    .dataframe tbody tr th:only-of-type {\n",
       "        vertical-align: middle;\n",
       "    }\n",
       "\n",
       "    .dataframe tbody tr th {\n",
       "        vertical-align: top;\n",
       "    }\n",
       "\n",
       "    .dataframe thead th {\n",
       "        text-align: right;\n",
       "    }\n",
       "</style>\n",
       "<table border=\"1\" class=\"dataframe\">\n",
       "  <thead>\n",
       "    <tr style=\"text-align: right;\">\n",
       "      <th></th>\n",
       "      <th>movies</th>\n",
       "      <th>songs</th>\n",
       "      <th>theme_songs</th>\n",
       "      <th>albums</th>\n",
       "      <th>national_awards</th>\n",
       "      <th>other_awards</th>\n",
       "      <th>sung</th>\n",
       "      <th>stage_performance</th>\n",
       "    </tr>\n",
       "  </thead>\n",
       "  <tbody>\n",
       "    <tr>\n",
       "      <th>0</th>\n",
       "      <td>1.774595</td>\n",
       "      <td>1.594937</td>\n",
       "      <td>1.275416</td>\n",
       "      <td>1.370989</td>\n",
       "      <td>1.445512</td>\n",
       "      <td>1.611764</td>\n",
       "      <td>1.621666</td>\n",
       "      <td>1.616444</td>\n",
       "    </tr>\n",
       "  </tbody>\n",
       "</table>\n",
       "</div>"
      ],
      "text/plain": [
       "     movies     songs  theme_songs    albums  national_awards  other_awards  \\\n",
       "0  1.774595  1.594937     1.275416  1.370989         1.445512      1.611764   \n",
       "\n",
       "       sung  stage_performance  \n",
       "0  1.621666           1.616444  "
      ]
     },
     "execution_count": 17,
     "metadata": {},
     "output_type": "execute_result"
    }
   ],
   "source": [
    "ilayaraaja_normalized"
   ]
  },
  {
   "cell_type": "code",
   "execution_count": 18,
   "metadata": {},
   "outputs": [],
   "source": [
    "# Find the distance between ilayaraaja and everyone else.\n",
    "euclidean_distances = music_normalized.apply(lambda row: distance.euclidean(row, ilayaraaja_normalized), axis=1)"
   ]
  },
  {
   "cell_type": "code",
   "execution_count": 19,
   "metadata": {},
   "outputs": [
    {
     "name": "stdout",
     "output_type": "stream",
     "text": [
      "0    0.000000\n",
      "1    3.994669\n",
      "2    5.323788\n",
      "3    6.028281\n",
      "4    6.856106\n",
      "dtype: float64\n"
     ]
    }
   ],
   "source": [
    "print(euclidean_distances)"
   ]
  },
  {
   "cell_type": "code",
   "execution_count": 20,
   "metadata": {},
   "outputs": [
    {
     "name": "stdout",
     "output_type": "stream",
     "text": [
      "       dist  idx\n",
      "0  0.000000    0\n",
      "1  3.994669    1\n",
      "2  5.323788    2\n",
      "3  6.028281    3\n",
      "4  6.856106    4\n"
     ]
    }
   ],
   "source": [
    "# Create a new dataframe with distances.\n",
    "distance_frame = pandas.DataFrame(data={\"dist\": euclidean_distances, \"idx\": euclidean_distances.index})\n",
    "print(distance_frame)"
   ]
  },
  {
   "cell_type": "code",
   "execution_count": 21,
   "metadata": {},
   "outputs": [
    {
     "name": "stdout",
     "output_type": "stream",
     "text": [
      "       dist  idx\n",
      "1  3.994669    1\n",
      "2  5.323788    2\n"
     ]
    }
   ],
   "source": [
    "print(distance_frame[1:3])"
   ]
  },
  {
   "cell_type": "code",
   "execution_count": 22,
   "metadata": {},
   "outputs": [],
   "source": [
    "distance_frame.sort_values(by=[\"dist\"], inplace=True)"
   ]
  },
  {
   "cell_type": "code",
   "execution_count": 23,
   "metadata": {},
   "outputs": [],
   "source": [
    "# Find the most similar player to ilayaraaja (the lowest distance to ilayaraaja is ilayaraaja, the second smallest is the most similar non-ilayaraaja player)\n",
    "second_smallest = distance_frame.iloc[1][\"idx\"]"
   ]
  },
  {
   "cell_type": "code",
   "execution_count": 25,
   "metadata": {},
   "outputs": [
    {
     "name": "stdout",
     "output_type": "stream",
     "text": [
      "closest player index: 1\n"
     ]
    }
   ],
   "source": [
    "print('closest player index: '+str(int(second_smallest)))"
   ]
  },
  {
   "cell_type": "code",
   "execution_count": 30,
   "metadata": {},
   "outputs": [],
   "source": [
    "most_similar_to_ilayaraaja = music.loc[int(second_smallest)][\"player\"]"
   ]
  },
  {
   "cell_type": "code",
   "execution_count": 31,
   "metadata": {},
   "outputs": [
    {
     "name": "stdout",
     "output_type": "stream",
     "text": [
      "A. R. Rahman\n"
     ]
    }
   ],
   "source": [
    "print(most_similar_to_ilayaraaja)"
   ]
  },
  {
   "cell_type": "code",
   "execution_count": 32,
   "metadata": {},
   "outputs": [
    {
     "name": "stdout",
     "output_type": "stream",
     "text": [
      "most similar : A. R. Rahman - distance : 3.9946691469873015\n"
     ]
    }
   ],
   "source": [
    "print('most similar : '+str(most_similar_to_ilayaraaja) + ' - distance : '+str(distance_frame.iloc[1][\"dist\"]))"
   ]
  },
  {
   "cell_type": "code",
   "execution_count": 33,
   "metadata": {},
   "outputs": [
    {
     "name": "stdout",
     "output_type": "stream",
     "text": [
      "5\n"
     ]
    }
   ],
   "source": [
    "print(len(distance_frame))"
   ]
  },
  {
   "cell_type": "code",
   "execution_count": 36,
   "metadata": {},
   "outputs": [
    {
     "name": "stdout",
     "output_type": "stream",
     "text": [
      "Top 3 Similar players to Ilayaraaja\n",
      "most similar 1 : A. R. Rahman - distance : 3.99\n",
      "most similar 2 : Yuvan Shankar Raja - distance : 5.32\n",
      "most similar 3 : Bharadwaj - distance : 6.03\n"
     ]
    }
   ],
   "source": [
    "print('Top '+str(TOP_PLAYERS_COUNT)+' Similar players to Ilayaraaja')\n",
    "for i in range(TOP_PLAYERS_COUNT + 1):\n",
    "    \n",
    "    if i == 0:\n",
    "        continue\n",
    "    \n",
    "    current_farthest = distance_frame.iloc[i][\"idx\"]\n",
    "    #print('closest player index: '+str(int(current_farthest)))\n",
    "    most_similar_to_ilayaraaja = music.loc[int(current_farthest)][\"player\"]\n",
    "\n",
    "    print('most similar '+str(i)+' : '+str(most_similar_to_ilayaraaja) + ' - distance : '+str(\"{0:.2f}\".format(distance_frame.iloc[i][\"dist\"])))"
   ]
  },
  {
   "cell_type": "code",
   "execution_count": 38,
   "metadata": {},
   "outputs": [
    {
     "name": "stdout",
     "output_type": "stream",
     "text": [
      "\n",
      "Most 3 Similar Players to Ilayaraaja\n",
      "most opposite 0 : Harris Jayaraj - distance : 6.86\n",
      "most opposite 1 : Bharadwaj - distance : 6.03\n",
      "most opposite 2 : Yuvan Shankar Raja - distance : 5.32\n"
     ]
    }
   ],
   "source": [
    "print('\\nMost '+str(TOP_PLAYERS_COUNT)+' Similar Players to Ilayaraaja')\n",
    "for i in range(TOP_PLAYERS_COUNT):\n",
    "    \n",
    "    least_i = len(distance_frame)-1 - i\n",
    "    \n",
    "    current_farthest = distance_frame.iloc[least_i][\"idx\"]\n",
    "    #print('closest player index: '+str(int(current_farthest)))\n",
    "    most_similar_to_ilayaraaja = music.loc[int(current_farthest)][\"player\"]\n",
    "    \n",
    "    distance = str(str(\"{0:.2f}\".format(distance_frame.iloc[least_i][\"dist\"])))\n",
    "\n",
    "    print('most opposite '+str(i)+' : '+str(most_similar_to_ilayaraaja) + ' - distance : '+distance)    "
   ]
  },
  {
   "cell_type": "code",
   "execution_count": 39,
   "metadata": {},
   "outputs": [
    {
     "name": "stdout",
     "output_type": "stream",
     "text": [
      "\n",
      "All players Sorted\n",
      "similar 0 : Ilayaraaja - distance : 0.00, Percentile : 100.00\n",
      "similar 1 : A. R. Rahman - distance : 3.99, Percentile : 78.94\n",
      "similar 2 : Yuvan Shankar Raja - distance : 5.32, Percentile : 71.94\n",
      "similar 3 : Bharadwaj - distance : 6.03, Percentile : 68.22\n",
      "similar 4 : Harris Jayaraj - distance : 6.86, Percentile : 63.86\n"
     ]
    }
   ],
   "source": [
    "print('\\nAll players Sorted')\n",
    "for i in range(len(distance_frame)):\n",
    "    \n",
    "    current_farthest = distance_frame.iloc[i][\"idx\"]\n",
    "    #print('closest player index: '+str(int(current_farthest)))\n",
    "    close_to_ilayaraaja = music.loc[int(current_farthest)][\"player\"]\n",
    "\n",
    "    current_distance = distance_frame.iloc[i][\"dist\"]\n",
    "    percentile = 100 - (100 / 18.9714833602) * current_distance\n",
    "    \n",
    "    if percentile < 0:\n",
    "        percentile = 0\n",
    "        \n",
    "    distance = str(str(\"{0:.2f}\".format(percentile)))   \n",
    "\n",
    "    print('similar '+str(i)+' : '+str(close_to_ilayaraaja) + ' - distance : '+str('{0:.2f}'.format(current_distance) ) + \", Percentile : \"+ distance)"
   ]
  },
  {
   "cell_type": "code",
   "execution_count": null,
   "metadata": {},
   "outputs": [],
   "source": []
  }
 ],
 "metadata": {
  "kernelspec": {
   "display_name": "Python 3",
   "language": "python",
   "name": "python3"
  },
  "language_info": {
   "codemirror_mode": {
    "name": "ipython",
    "version": 3
   },
   "file_extension": ".py",
   "mimetype": "text/x-python",
   "name": "python",
   "nbconvert_exporter": "python",
   "pygments_lexer": "ipython3",
   "version": "3.6.5"
  }
 },
 "nbformat": 4,
 "nbformat_minor": 2
}
