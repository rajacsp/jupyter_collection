{
 "cells": [
  {
   "cell_type": "code",
   "execution_count": 1,
   "metadata": {},
   "outputs": [],
   "source": [
    "content = \"\"\"\n",
    "In 1893, Gandhi wrote to the Natal parliament saying that a \"general belief seems to prevail in the Colony that the Indians are a little better, if at all, than savages or the Natives of Africa\".\n",
    "\n",
    "In 1904, he wrote to a health officer in Johannesburg that the council \"must withdraw Kaffirs\" from an unsanitary slum called the \"Coolie Location\" where a large number of Africans lived alongside Indians. \"About the mixing of the Kaffirs with the Indians, I must confess I feel most strongly.\"\n",
    "\n",
    "The same year he wrote that unlike the African, the Indian had no \"war-dances, nor does he drink Kaffir beer\". When Durban was hit by a plague in 1905, Gandhi wrote that the problem would persist as long as Indians and Africans were being \"herded together indiscriminately at the hospital\".\n",
    "\"\"\""
   ]
  },
  {
   "cell_type": "code",
   "execution_count": 2,
   "metadata": {},
   "outputs": [
    {
     "data": {
      "text/plain": [
       "'\\nIn 1893, Gandhi wrote to the Natal parliament saying that a \"general belief seems to prevail in the Colony that the Indians are a little better, if at all, than savages or the Natives of Africa\".\\n\\nIn 1904, he wrote to a health officer in Johannesburg that the council \"must withdraw Kaffirs\" from an unsanitary slum called the \"Coolie Location\" where a large number of Africans lived alongside Indians. \"About the mixing of the Kaffirs with the Indians, I must confess I feel most strongly.\"\\n\\nThe same year he wrote that unlike the African, the Indian had no \"war-dances, nor does he drink Kaffir beer\". When Durban was hit by a plague in 1905, Gandhi wrote that the problem would persist as long as Indians and Africans were being \"herded together indiscriminately at the hospital\".\\n'"
      ]
     },
     "execution_count": 2,
     "metadata": {},
     "output_type": "execute_result"
    }
   ],
   "source": [
    "content"
   ]
  },
  {
   "cell_type": "code",
   "execution_count": 55,
   "metadata": {},
   "outputs": [],
   "source": [
    "# remote comma as it is not needed here\n",
    "content = content.replace(',', '').replace(\"\\\"\", \"\")"
   ]
  },
  {
   "cell_type": "code",
   "execution_count": 56,
   "metadata": {},
   "outputs": [
    {
     "data": {
      "text/plain": [
       "765"
      ]
     },
     "execution_count": 56,
     "metadata": {},
     "output_type": "execute_result"
    }
   ],
   "source": [
    "len(content)"
   ]
  },
  {
   "cell_type": "code",
   "execution_count": 57,
   "metadata": {},
   "outputs": [],
   "source": [
    "contents = content.split('\\n')"
   ]
  },
  {
   "cell_type": "code",
   "execution_count": 58,
   "metadata": {},
   "outputs": [
    {
     "data": {
      "text/plain": [
       "7"
      ]
     },
     "execution_count": 58,
     "metadata": {},
     "output_type": "execute_result"
    }
   ],
   "source": [
    "len(contents)"
   ]
  },
  {
   "cell_type": "code",
   "execution_count": 59,
   "metadata": {},
   "outputs": [
    {
     "data": {
      "text/plain": [
       "['',\n",
       " 'In 1893 Gandhi wrote to the Natal parliament saying that a general belief seems to prevail in the Colony that the Indians are a little better if at all than savages or the Natives of Africa.',\n",
       " '',\n",
       " 'In 1904 he wrote to a health officer in Johannesburg that the council must withdraw Kaffirs from an unsanitary slum called the Coolie Location where a large number of Africans lived alongside Indians. About the mixing of the Kaffirs with the Indians I must confess I feel most strongly.',\n",
       " '',\n",
       " 'The same year he wrote that unlike the African the Indian had no war-dances nor does he drink Kaffir beer. When Durban was hit by a plague in 1905 Gandhi wrote that the problem would persist as long as Indians and Africans were being herded together indiscriminately at the hospital.',\n",
       " '']"
      ]
     },
     "execution_count": 59,
     "metadata": {},
     "output_type": "execute_result"
    }
   ],
   "source": [
    "contents"
   ]
  },
  {
   "cell_type": "code",
   "execution_count": 60,
   "metadata": {},
   "outputs": [],
   "source": [
    "# remove empty lines\n",
    "contents = [x for x in contents if len(x) > 1]"
   ]
  },
  {
   "cell_type": "code",
   "execution_count": 61,
   "metadata": {},
   "outputs": [
    {
     "data": {
      "text/plain": [
       "['In 1893 Gandhi wrote to the Natal parliament saying that a general belief seems to prevail in the Colony that the Indians are a little better if at all than savages or the Natives of Africa.',\n",
       " 'In 1904 he wrote to a health officer in Johannesburg that the council must withdraw Kaffirs from an unsanitary slum called the Coolie Location where a large number of Africans lived alongside Indians. About the mixing of the Kaffirs with the Indians I must confess I feel most strongly.',\n",
       " 'The same year he wrote that unlike the African the Indian had no war-dances nor does he drink Kaffir beer. When Durban was hit by a plague in 1905 Gandhi wrote that the problem would persist as long as Indians and Africans were being herded together indiscriminately at the hospital.']"
      ]
     },
     "execution_count": 61,
     "metadata": {},
     "output_type": "execute_result"
    }
   ],
   "source": [
    "contents"
   ]
  },
  {
   "cell_type": "code",
   "execution_count": 70,
   "metadata": {},
   "outputs": [],
   "source": [
    "# create a stop list\n",
    "stoplist = set('for a of the and to in that are if at all than he she i from an or by no had was as'.split(' '))"
   ]
  },
  {
   "cell_type": "code",
   "execution_count": 71,
   "metadata": {},
   "outputs": [
    {
     "data": {
      "text/plain": [
       "{'a',\n",
       " 'all',\n",
       " 'an',\n",
       " 'and',\n",
       " 'are',\n",
       " 'as',\n",
       " 'at',\n",
       " 'by',\n",
       " 'for',\n",
       " 'from',\n",
       " 'had',\n",
       " 'he',\n",
       " 'i',\n",
       " 'if',\n",
       " 'in',\n",
       " 'no',\n",
       " 'of',\n",
       " 'or',\n",
       " 'she',\n",
       " 'than',\n",
       " 'that',\n",
       " 'the',\n",
       " 'to',\n",
       " 'was'}"
      ]
     },
     "execution_count": 71,
     "metadata": {},
     "output_type": "execute_result"
    }
   ],
   "source": [
    "stoplist"
   ]
  },
  {
   "cell_type": "code",
   "execution_count": 72,
   "metadata": {},
   "outputs": [],
   "source": [
    "words = [[x for x in content.lower().split() if x not in stoplist] for content in contents]"
   ]
  },
  {
   "cell_type": "code",
   "execution_count": 73,
   "metadata": {},
   "outputs": [
    {
     "data": {
      "text/plain": [
       "[['1893',\n",
       "  'gandhi',\n",
       "  'wrote',\n",
       "  'natal',\n",
       "  'parliament',\n",
       "  'saying',\n",
       "  'general',\n",
       "  'belief',\n",
       "  'seems',\n",
       "  'prevail',\n",
       "  'colony',\n",
       "  'indians',\n",
       "  'little',\n",
       "  'better',\n",
       "  'savages',\n",
       "  'natives',\n",
       "  'africa.'],\n",
       " ['1904',\n",
       "  'wrote',\n",
       "  'health',\n",
       "  'officer',\n",
       "  'johannesburg',\n",
       "  'council',\n",
       "  'must',\n",
       "  'withdraw',\n",
       "  'kaffirs',\n",
       "  'unsanitary',\n",
       "  'slum',\n",
       "  'called',\n",
       "  'coolie',\n",
       "  'location',\n",
       "  'where',\n",
       "  'large',\n",
       "  'number',\n",
       "  'africans',\n",
       "  'lived',\n",
       "  'alongside',\n",
       "  'indians.',\n",
       "  'about',\n",
       "  'mixing',\n",
       "  'kaffirs',\n",
       "  'with',\n",
       "  'indians',\n",
       "  'must',\n",
       "  'confess',\n",
       "  'feel',\n",
       "  'most',\n",
       "  'strongly.'],\n",
       " ['same',\n",
       "  'year',\n",
       "  'wrote',\n",
       "  'unlike',\n",
       "  'african',\n",
       "  'indian',\n",
       "  'war-dances',\n",
       "  'nor',\n",
       "  'does',\n",
       "  'drink',\n",
       "  'kaffir',\n",
       "  'beer.',\n",
       "  'when',\n",
       "  'durban',\n",
       "  'hit',\n",
       "  'plague',\n",
       "  '1905',\n",
       "  'gandhi',\n",
       "  'wrote',\n",
       "  'problem',\n",
       "  'would',\n",
       "  'persist',\n",
       "  'long',\n",
       "  'indians',\n",
       "  'africans',\n",
       "  'were',\n",
       "  'being',\n",
       "  'herded',\n",
       "  'together',\n",
       "  'indiscriminately',\n",
       "  'hospital.']]"
      ]
     },
     "execution_count": 73,
     "metadata": {},
     "output_type": "execute_result"
    }
   ],
   "source": [
    "words"
   ]
  },
  {
   "cell_type": "code",
   "execution_count": 74,
   "metadata": {},
   "outputs": [
    {
     "data": {
      "text/plain": [
       "list"
      ]
     },
     "execution_count": 74,
     "metadata": {},
     "output_type": "execute_result"
    }
   ],
   "source": [
    "type(words)"
   ]
  },
  {
   "cell_type": "code",
   "execution_count": 75,
   "metadata": {},
   "outputs": [
    {
     "data": {
      "text/plain": [
       "3"
      ]
     },
     "execution_count": 75,
     "metadata": {},
     "output_type": "execute_result"
    }
   ],
   "source": [
    "len(words)"
   ]
  },
  {
   "cell_type": "code",
   "execution_count": 77,
   "metadata": {},
   "outputs": [],
   "source": [
    "# Count word frequencies\n",
    "from collections import defaultdict\n",
    "\n",
    "frequency = defaultdict(int)\n",
    "for text in words:\n",
    "    for token in text:\n",
    "        frequency[token] += 1"
   ]
  },
  {
   "cell_type": "code",
   "execution_count": 78,
   "metadata": {},
   "outputs": [
    {
     "data": {
      "text/plain": [
       "defaultdict(int,\n",
       "            {'1893': 1,\n",
       "             'gandhi': 2,\n",
       "             'wrote': 4,\n",
       "             'natal': 1,\n",
       "             'parliament': 1,\n",
       "             'saying': 1,\n",
       "             'general': 1,\n",
       "             'belief': 1,\n",
       "             'seems': 1,\n",
       "             'prevail': 1,\n",
       "             'colony': 1,\n",
       "             'indians': 3,\n",
       "             'little': 1,\n",
       "             'better': 1,\n",
       "             'savages': 1,\n",
       "             'natives': 1,\n",
       "             'africa.': 1,\n",
       "             '1904': 1,\n",
       "             'health': 1,\n",
       "             'officer': 1,\n",
       "             'johannesburg': 1,\n",
       "             'council': 1,\n",
       "             'must': 2,\n",
       "             'withdraw': 1,\n",
       "             'kaffirs': 2,\n",
       "             'unsanitary': 1,\n",
       "             'slum': 1,\n",
       "             'called': 1,\n",
       "             'coolie': 1,\n",
       "             'location': 1,\n",
       "             'where': 1,\n",
       "             'large': 1,\n",
       "             'number': 1,\n",
       "             'africans': 2,\n",
       "             'lived': 1,\n",
       "             'alongside': 1,\n",
       "             'indians.': 1,\n",
       "             'about': 1,\n",
       "             'mixing': 1,\n",
       "             'with': 1,\n",
       "             'confess': 1,\n",
       "             'feel': 1,\n",
       "             'most': 1,\n",
       "             'strongly.': 1,\n",
       "             'same': 1,\n",
       "             'year': 1,\n",
       "             'unlike': 1,\n",
       "             'african': 1,\n",
       "             'indian': 1,\n",
       "             'war-dances': 1,\n",
       "             'nor': 1,\n",
       "             'does': 1,\n",
       "             'drink': 1,\n",
       "             'kaffir': 1,\n",
       "             'beer.': 1,\n",
       "             'when': 1,\n",
       "             'durban': 1,\n",
       "             'hit': 1,\n",
       "             'plague': 1,\n",
       "             '1905': 1,\n",
       "             'problem': 1,\n",
       "             'would': 1,\n",
       "             'persist': 1,\n",
       "             'long': 1,\n",
       "             'were': 1,\n",
       "             'being': 1,\n",
       "             'herded': 1,\n",
       "             'together': 1,\n",
       "             'indiscriminately': 1,\n",
       "             'hospital.': 1})"
      ]
     },
     "execution_count": 78,
     "metadata": {},
     "output_type": "execute_result"
    }
   ],
   "source": [
    "frequency"
   ]
  },
  {
   "cell_type": "code",
   "execution_count": 79,
   "metadata": {},
   "outputs": [
    {
     "data": {
      "text/plain": [
       "collections.defaultdict"
      ]
     },
     "execution_count": 79,
     "metadata": {},
     "output_type": "execute_result"
    }
   ],
   "source": [
    "type(frequency)"
   ]
  },
  {
   "cell_type": "code",
   "execution_count": 81,
   "metadata": {},
   "outputs": [
    {
     "data": {
      "text/plain": [
       "[['gandhi', 'wrote', 'indians'],\n",
       " ['wrote', 'must', 'kaffirs', 'africans', 'kaffirs', 'indians', 'must'],\n",
       " ['wrote', 'gandhi', 'wrote', 'indians', 'africans']]"
      ]
     },
     "execution_count": 81,
     "metadata": {},
     "output_type": "execute_result"
    }
   ],
   "source": [
    "# Only keep words that appear more than once\n",
    "processed_corpus = [[token for token in text if frequency[token] > 1] for text in words]\n",
    "processed_corpus"
   ]
  },
  {
   "cell_type": "code",
   "execution_count": null,
   "metadata": {},
   "outputs": [],
   "source": []
  }
 ],
 "metadata": {
  "kernelspec": {
   "display_name": "py36",
   "language": "python",
   "name": "py36"
  },
  "language_info": {
   "codemirror_mode": {
    "name": "ipython",
    "version": 3
   },
   "file_extension": ".py",
   "mimetype": "text/x-python",
   "name": "python",
   "nbconvert_exporter": "python",
   "pygments_lexer": "ipython3",
   "version": "3.6.6"
  }
 },
 "nbformat": 4,
 "nbformat_minor": 2
}
