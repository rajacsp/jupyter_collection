{
 "cells": [
  {
   "cell_type": "code",
   "execution_count": 1,
   "metadata": {},
   "outputs": [],
   "source": [
    "import matplotlib.pyplot as plt\n",
    "import seaborn as sns"
   ]
  },
  {
   "cell_type": "code",
   "execution_count": 2,
   "metadata": {},
   "outputs": [],
   "source": [
    "sns.set()"
   ]
  },
  {
   "cell_type": "code",
   "execution_count": 3,
   "metadata": {},
   "outputs": [],
   "source": [
    "# Load flight dataset\n",
    "flights_long = sns.load_dataset(\"flights\")\n",
    "flights = flights_long.pivot(\"month\", \"year\", \"passengers\")"
   ]
  },
  {
   "cell_type": "code",
   "execution_count": 4,
   "metadata": {},
   "outputs": [
    {
     "name": "stdout",
     "output_type": "stream",
     "text": [
      "<class 'pandas.core.frame.DataFrame'>\n"
     ]
    }
   ],
   "source": [
    "print(type(flights))"
   ]
  },
  {
   "cell_type": "code",
   "execution_count": 5,
   "metadata": {},
   "outputs": [
    {
     "name": "stdout",
     "output_type": "stream",
     "text": [
      "(12, 12)\n"
     ]
    }
   ],
   "source": [
    "print(flights.shape)"
   ]
  },
  {
   "cell_type": "code",
   "execution_count": 6,
   "metadata": {},
   "outputs": [
    {
     "name": "stdout",
     "output_type": "stream",
     "text": [
      "year       1949  1950  1951  1952  1953  1954  1955  1956  1957  1958  1959  \\\n",
      "month                                                                         \n",
      "January     112   115   145   171   196   204   242   284   315   340   360   \n",
      "February    118   126   150   180   196   188   233   277   301   318   342   \n",
      "March       132   141   178   193   236   235   267   317   356   362   406   \n",
      "April       129   135   163   181   235   227   269   313   348   348   396   \n",
      "May         121   125   172   183   229   234   270   318   355   363   420   \n",
      "June        135   149   178   218   243   264   315   374   422   435   472   \n",
      "July        148   170   199   230   264   302   364   413   465   491   548   \n",
      "August      148   170   199   242   272   293   347   405   467   505   559   \n",
      "September   136   158   184   209   237   259   312   355   404   404   463   \n",
      "October     119   133   162   191   211   229   274   306   347   359   407   \n",
      "November    104   114   146   172   180   203   237   271   305   310   362   \n",
      "December    118   140   166   194   201   229   278   306   336   337   405   \n",
      "\n",
      "year       1960  \n",
      "month            \n",
      "January     417  \n",
      "February    391  \n",
      "March       419  \n",
      "April       461  \n",
      "May         472  \n",
      "June        535  \n",
      "July        622  \n",
      "August      606  \n",
      "September   508  \n",
      "October     461  \n",
      "November    390  \n",
      "December    432  \n"
     ]
    }
   ],
   "source": [
    "print(flights)"
   ]
  },
  {
   "cell_type": "code",
   "execution_count": null,
   "metadata": {},
   "outputs": [],
   "source": []
  }
 ],
 "metadata": {
  "kernelspec": {
   "display_name": "Python 3",
   "language": "python",
   "name": "python3"
  },
  "language_info": {
   "codemirror_mode": {
    "name": "ipython",
    "version": 3
   },
   "file_extension": ".py",
   "mimetype": "text/x-python",
   "name": "python",
   "nbconvert_exporter": "python",
   "pygments_lexer": "ipython3",
   "version": "3.6.5"
  }
 },
 "nbformat": 4,
 "nbformat_minor": 2
}
