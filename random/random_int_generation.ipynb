{
 "cells": [
  {
   "cell_type": "code",
   "execution_count": 2,
   "metadata": {},
   "outputs": [
    {
     "name": "stdout",
     "output_type": "stream",
     "text": [
      "***** RESULTS ******\n",
      "alpha: [2.174, 0.435, 3.478, 0.435, 3.478]\n",
      "total: 10.0000000\n",
      "parts: 5\n",
      "places: 3\n",
      "elapsed: 0.0000000\n"
     ]
    }
   ],
   "source": [
    "import random\n",
    "import time\n",
    "\n",
    "PARTS       = 5\n",
    "TOTAL       = 10\n",
    "PLACES      = 3\n",
    "\n",
    "def random_sum_split(parts, total, places):\n",
    "\n",
    "    a = []\n",
    "    for n in range(parts):\n",
    "        a.append(random.randint(1, 10))\n",
    "    b = sum(a)\n",
    "    c = [x/b for x in a]    \n",
    "    d = sum(c)\n",
    "    e = c\n",
    "    if places != None:\n",
    "        e = [round(x*total, places) for x in c]\n",
    "    f = e[-(parts-1):]\n",
    "    g = total - sum(f)\n",
    "    if places != None:\n",
    "        g = round(g, places)\n",
    "    f.insert(0, g)\n",
    "   \n",
    "    return f   \n",
    "\n",
    "\n",
    "start = time.time()\n",
    "alpha = random_sum_split(PARTS, TOTAL, PLACES)\n",
    "\n",
    "print('***** RESULTS ******')\n",
    "print('alpha: %s' % alpha)\n",
    "print('total: %.7f' % sum(alpha))\n",
    "print('parts: %s' % PARTS)\n",
    "print('places: %s' % PLACES)\n",
    "\n",
    "end = time.time()  \n",
    "\n",
    "print('elapsed: %.7f' % (end-start))"
   ]
  },
  {
   "cell_type": "code",
   "execution_count": null,
   "metadata": {},
   "outputs": [],
   "source": []
  }
 ],
 "metadata": {
  "kernelspec": {
   "display_name": "Python 3",
   "language": "python",
   "name": "python3"
  },
  "language_info": {
   "codemirror_mode": {
    "name": "ipython",
    "version": 3
   },
   "file_extension": ".py",
   "mimetype": "text/x-python",
   "name": "python",
   "nbconvert_exporter": "python",
   "pygments_lexer": "ipython3",
   "version": "3.6.5"
  }
 },
 "nbformat": 4,
 "nbformat_minor": 2
}
