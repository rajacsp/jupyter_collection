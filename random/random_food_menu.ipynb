{
 "cells": [
  {
   "cell_type": "code",
   "execution_count": 49,
   "metadata": {},
   "outputs": [],
   "source": [
    "'''\n",
    "Break fast menu:\n",
    "http://www.timhortons.com/ca/en/menu/breakfast.php\n",
    "https://sunsetgrill.ca/food/all-day-breakfast/\n",
    "'''\n",
    "\n",
    "breakfast_items = [\n",
    "    \"Hot Breakfast Sandwich with Bacon\",\n",
    "    \"Hot Breakfast Sandwich with Sausage\",\n",
    "    \"Hot Breakfast Sandwich with Seasoned Egg\",\n",
    "    \"Bagel B.E.L.T with Bacon\",\n",
    "    \"Bagel B.E.L.T with Sausage\",\n",
    "    \"Bagel B.E.L.T with Seasoned Egg\",\n",
    "    \"Bacon Grilled Breakfast Wrap\",\n",
    "    \"Sausage Grilled Breakfast Wrap\",\n",
    "    \"Fresh Grilled Breakfast Wraps\",\n",
    "    \"Homestyle Oatmeal Maple\",\n",
    "    \"Homestyle Oatmeal Mixex Berries\",\n",
    "    \"Homestyle Oatmeal Plain\",\n",
    "    \"Breakfast Snacks\",\n",
    "    \"Three Eggs with Bacon\",\n",
    "    \"Three Eggs with Ham\",\n",
    "    \"Three Eggs with Sausages\",\n",
    "    \"Three Eggs with Peameal Style Bacon\"\n",
    "]"
   ]
  },
  {
   "cell_type": "code",
   "execution_count": 50,
   "metadata": {},
   "outputs": [
    {
     "name": "stdout",
     "output_type": "stream",
     "text": [
      "['Hot Breakfast Sandwich with Bacon', 'Hot Breakfast Sandwich with Sausage', 'Hot Breakfast Sandwich with Seasoned Egg', 'Bagel B.E.L.T with Bacon', 'Bagel B.E.L.T with Sausage', 'Bagel B.E.L.T with Seasoned Egg', 'Bacon Grilled Breakfast Wrap', 'Sausage Grilled Breakfast Wrap', 'Fresh Grilled Breakfast Wraps', 'Homestyle Oatmeal Maple', 'Homestyle Oatmeal Mixex Berries', 'Homestyle Oatmeal Plain', 'Breakfast Snacks', 'Three Eggs with Bacon', 'Three Eggs with Ham', 'Three Eggs with Sausages', 'Three Eggs with Peameal Style Bacon']\n"
     ]
    }
   ],
   "source": [
    "print(breakfast_items)"
   ]
  },
  {
   "cell_type": "code",
   "execution_count": 16,
   "metadata": {},
   "outputs": [
    {
     "name": "stdout",
     "output_type": "stream",
     "text": [
      "17\n"
     ]
    }
   ],
   "source": [
    "print(len(breakfast_items))"
   ]
  },
  {
   "cell_type": "code",
   "execution_count": 15,
   "metadata": {},
   "outputs": [
    {
     "data": {
      "text/plain": [
       "32"
      ]
     },
     "execution_count": 15,
     "metadata": {},
     "output_type": "execute_result"
    }
   ],
   "source": [
    "import random\n",
    "\n",
    "random.randint(1, 101)"
   ]
  },
  {
   "cell_type": "code",
   "execution_count": 20,
   "metadata": {},
   "outputs": [
    {
     "name": "stdout",
     "output_type": "stream",
     "text": [
      "Day 1 :  Three Eggs with Peameal Style Bacon\n",
      "Day 2 :  Three Eggs with Bacon\n",
      "Day 3 :  Three Eggs with Ham\n",
      "Day 4 :  Fresh Grilled Breakfast Wraps\n",
      "Day 5 :  Bagel B.E.L.T with Sausage\n",
      "Day 6 :  Hot Breakfast Sandwich with Sausage\n",
      "Day 7 :  Hot Breakfast Sandwich with Sausage\n"
     ]
    }
   ],
   "source": [
    "for i in range(7):\n",
    "    break_fast = breakfast_items[random.randint(0, len(breakfast_items))]\n",
    "    print(\"Day \"+str(i+1)+\" : \", break_fast)"
   ]
  },
  {
   "cell_type": "code",
   "execution_count": 35,
   "metadata": {},
   "outputs": [],
   "source": [
    "# Adding Lunch \n",
    "'''\n",
    "Lunch menu:\n",
    "https://www.kelseys.ca/lunch.php\n",
    "'''\n",
    "lunch_items = [\n",
    "    \"Grilled Cheese N' Soup Combo\",\n",
    "    \"Totally Triple Lunch Combo\",\n",
    "    \"Serious Soup N' Salad Combo\",\n",
    "    \"Salt and Vinny Fish & Chips\",\n",
    "    \"1/2 Alfredo Chicken Pasta 'N' Salad Combo\",\n",
    "    \"Burly Beef Chili\",\n",
    "    \"Birthday Suit Chicken Fingers 'N' Salad Combo\",\n",
    "    \"1/2 Feta Brachuetta Flatbread 'N' Salad Combo\"\n",
    "]"
   ]
  },
  {
   "cell_type": "code",
   "execution_count": 36,
   "metadata": {},
   "outputs": [
    {
     "name": "stdout",
     "output_type": "stream",
     "text": [
      "Day 1 : \n",
      "\tBreakfast : Hot Breakfast Sandwich with Seasoned Egg\n",
      "\tLunch : 1/2 Alfredo Chicken Pasta 'N' Salad Combo\n",
      "\n",
      "Day 2 : \n",
      "\tBreakfast : Three Eggs with Peameal Style Bacon\n",
      "\tLunch : Grilled Cheese N' Soup Combo\n",
      "\n",
      "Day 3 : \n",
      "\tBreakfast : Hot Breakfast Sandwich with Bacon\n",
      "\tLunch : 1/2 Alfredo Chicken Pasta 'N' Salad Combo\n",
      "\n",
      "Day 4 : \n",
      "\tBreakfast : Hot Breakfast Sandwich with Seasoned Egg\n",
      "\tLunch : 1/2 Feta Brachuetta Flatbread 'N' Salad Combo\n",
      "\n",
      "Day 5 : \n",
      "\tBreakfast : Three Eggs with Peameal Style Bacon\n",
      "\tLunch : 1/2 Feta Brachuetta Flatbread 'N' Salad Combo\n",
      "\n",
      "Day 6 : \n",
      "\tBreakfast : Homestyle Oatmeal Plain\n",
      "\tLunch : 1/2 Feta Brachuetta Flatbread 'N' Salad Combo\n",
      "\n",
      "Day 7 : \n",
      "\tBreakfast : Bagel B.E.L.T with Seasoned Egg\n",
      "\tLunch : Serious Soup N' Salad Combo\n",
      "\n"
     ]
    }
   ],
   "source": [
    "for i in range(7):\n",
    "    bfRandomIndex = random.randint(0, len(breakfast_items)-1)\n",
    "    lunchRandomIndex = random.randint(0, len(lunch_items)-1)    \n",
    "    \n",
    "    #print(\"bfindex [\"+str(bfRandomIndex)+\"], lunchindex[\"+str(lunchRandomIndex)+\"]\")\n",
    "    \n",
    "    break_fast = breakfast_items[bfRandomIndex]\n",
    "    lunch = lunch_items[lunchRandomIndex]\n",
    "    \n",
    "    print(\"Day \"+str(i+1)+\" : \")\n",
    "    print(\"\\tBreakfast : \"+break_fast)\n",
    "    print(\"\\tLunch : \"+lunch)\n",
    "    print(\"\")"
   ]
  },
  {
   "cell_type": "code",
   "execution_count": 37,
   "metadata": {},
   "outputs": [],
   "source": [
    "# Adding Dinner Menu\n",
    "'''\n",
    "Dinner menu:\n",
    "https://www.kelseys.ca/dinner.php\n",
    "'''\n",
    "dinner_items = [\n",
    "    \"Four Cheese Spinach Dip\",\n",
    "    \"Quesadilla\",\n",
    "    \"Rockin' Broc Cheddar Soup\",\n",
    "    \"Feta Bruschetta Flatbread\",\n",
    "    \"Roasted Red Pepper & Tomato Soup\",\n",
    "    \"Classic Calamari\",\n",
    "    \"Say Cheese Garlic Twists\",\n",
    "    \"Flat Pan Nachos\",\n",
    "    \"Roadie's Fav Fried Pickles\",\n",
    "    \"Flat Pan Nachos\",\n",
    "    \"Popcorn Shrimp\",\n",
    "    \"Tasty Tacos\"\n",
    "]"
   ]
  },
  {
   "cell_type": "code",
   "execution_count": 38,
   "metadata": {},
   "outputs": [
    {
     "name": "stdout",
     "output_type": "stream",
     "text": [
      "Day 1 : \n",
      "\tBreakfast : Fresh Grilled Breakfast Wraps\n",
      "\tLunch : Birthday Suit Chicken Fingers 'N' Salad Combo\n",
      "\tDinner : Flat Pan Nachos\n",
      "\n",
      "Day 2 : \n",
      "\tBreakfast : Breakfast Snacks\n",
      "\tLunch : Totally Triple Lunch Combo\n",
      "\tDinner : Classic Calamari\n",
      "\n",
      "Day 3 : \n",
      "\tBreakfast : Breakfast Snacks\n",
      "\tLunch : 1/2 Alfredo Chicken Pasta 'N' Salad Combo\n",
      "\tDinner : Rockin' Broc Cheddar Soup\n",
      "\n",
      "Day 4 : \n",
      "\tBreakfast : Fresh Grilled Breakfast Wraps\n",
      "\tLunch : Salt and Vinny Fish & Chips\n",
      "\tDinner : Popcorn Shrimp\n",
      "\n",
      "Day 5 : \n",
      "\tBreakfast : Homestyle Oatmeal Maple\n",
      "\tLunch : Serious Soup N' Salad Combo\n",
      "\tDinner : Tasty Tacos\n",
      "\n",
      "Day 6 : \n",
      "\tBreakfast : Three Eggs with Sausages\n",
      "\tLunch : Birthday Suit Chicken Fingers 'N' Salad Combo\n",
      "\tDinner : Feta Bruschetta Flatbread\n",
      "\n",
      "Day 7 : \n",
      "\tBreakfast : Homestyle Oatmeal Maple\n",
      "\tLunch : Totally Triple Lunch Combo\n",
      "\tDinner : Popcorn Shrimp\n",
      "\n"
     ]
    }
   ],
   "source": [
    "for i in range(7):\n",
    "    bfRandomIndex = random.randint(0, len(breakfast_items)-1)\n",
    "    lunchRandomIndex = random.randint(0, len(lunch_items)-1)\n",
    "    dinnerRandomIndex = random.randint(0, len(dinner_items)-1)\n",
    "    \n",
    "    #print(\"bfindex [\"+str(bfRandomIndex)+\"], lunchindex[\"+str(lunchRandomIndex)+\"]\")\n",
    "    \n",
    "    break_fast = breakfast_items[bfRandomIndex]\n",
    "    lunch = lunch_items[lunchRandomIndex]\n",
    "    dinner = dinner_items[dinnerRandomIndex]\n",
    "    \n",
    "    print(\"Day \"+str(i+1)+\" : \")\n",
    "    print(\"\\tBreakfast : \"+break_fast)\n",
    "    print(\"\\tLunch : \"+lunch)\n",
    "    print(\"\\tDinner : \"+dinner)\n",
    "    print(\"\")"
   ]
  },
  {
   "cell_type": "code",
   "execution_count": 41,
   "metadata": {},
   "outputs": [],
   "source": [
    "# Adding Calories\n",
    "food_calories = {\n",
    "    \"Hot Breakfast Sandwich with Bacon\" : 120,\n",
    "    \"Hot Breakfast Sandwich with Sausage\" : 200,\n",
    "    \"Hot Breakfast Sandwich with Seasoned Egg\" : 250,\n",
    "    \"Bagel B.E.L.T with Bacon\" : 370,\n",
    "    \"Bagel B.E.L.T with Sausage\" : 420,\n",
    "    \"Bagel B.E.L.T with Seasoned Egg\" : 350,\n",
    "    \"Bacon Grilled Breakfast Wrap\" : 380,\n",
    "    \"Sausage Grilled Breakfast Wrap\" : 450,\n",
    "    \"Fresh Grilled Breakfast Wraps\" : 420,\n",
    "    \"Homestyle Oatmeal Maple\" : 455,\n",
    "    \"Homestyle Oatmeal Mixex Berries\" : 480,\n",
    "    \"Homestyle Oatmeal Plain\" : 450,\n",
    "    \"Breakfast Snacks\" : 550,\n",
    "    \"Three Eggs with Bacon\" : 540,\n",
    "    \"Three Eggs with Ham\" : 600,\n",
    "    \"Three Eggs with Sausages\" : 220,\n",
    "    \"Three Eggs with Peameal Style Bacon\" : 450,\n",
    "    \n",
    "    \"Grilled Cheese N' Soup Combo\" : 870,\n",
    "    \"Totally Triple Lunch Combo\" : 650,\n",
    "    \"Serious Soup N' Salad Combo\" : 880,\n",
    "    \"Salt and Vinny Fish & Chips\" : 1020,\n",
    "    \"1/2 Alfredo Chicken Pasta 'N' Salad Combo\" : 840,\n",
    "    \"Burly Beef Chili\" : 950,\n",
    "    \"Birthday Suit Chicken Fingers 'N' Salad Combo\" : 450,\n",
    "    \"1/2 Feta Brachuetta Flatbread 'N' Salad Combo\" : 470,\n",
    "\n",
    "    \"Four Cheese Spinach Dip\" : 650,\n",
    "    \"Quesadilla\" : 890,\n",
    "    \"Rockin' Broc Cheddar Soup\" : 780,\n",
    "    \"Feta Bruschetta Flatbread\" : 770,\n",
    "    \"Roasted Red Pepper & Tomato Soup\" : 1020,\n",
    "    \"Classic Calamari\" : 1200,\n",
    "    \"Say Cheese Garlic Twists\" : 980,\n",
    "    \"Flat Pan Nachos\" : 780,\n",
    "    \"Roadie's Fav Fried Pickles\" : 750,\n",
    "    \"Flat Pan Nachos\" : 650,\n",
    "    \"Popcorn Shrimp\" : 690,\n",
    "    \"Tasty Tacos\" : 780    \n",
    "}"
   ]
  },
  {
   "cell_type": "code",
   "execution_count": 42,
   "metadata": {},
   "outputs": [
    {
     "name": "stdout",
     "output_type": "stream",
     "text": [
      "{'Hot Breakfast Sandwich with Bacon': 120, 'Hot Breakfast Sandwich with Sausage': 200, 'Hot Breakfast Sandwich with Seasoned Egg': 250, 'Bagel B.E.L.T with Bacon': 370, 'Bagel B.E.L.T with Sausage': 420, 'Bagel B.E.L.T with Seasoned Egg': 350, 'Bacon Grilled Breakfast Wrap': 380, 'Sausage Grilled Breakfast Wrap': 450, 'Fresh Grilled Breakfast Wraps': 420, 'Homestyle Oatmeal Maple': 455, 'Homestyle Oatmeal Mixex Berries': 480, 'Homestyle Oatmeal Plain': 450, 'Breakfast Snacks': 550, 'Three Eggs with Bacon': 540, 'Three Eggs with Ham': 600, 'Three Eggs with Sausages': 220, 'Three Eggs with Peameal Style Bacon': 450, \"Grilled Cheese N' Soup Combo\": 870, 'Totally Triple Lunch Combo': 650, \"Serious Soup N' Salad Combo\": 880, 'Salt and Vinny Fish & Chips': 1020, \"1/2 Alfredo Chicken Pasta 'N' Salad Combo\": 840, 'Burly Beef Chili': 950, \"Birthday Suit Chicken Fingers 'N' Salad Combo\": 450, \"1/2 Feta Brachuetta Flatbread 'N' Salad Combo\": 470, 'Four Cheese Spinach Dip': 650, 'Quesadilla': 890, \"Rockin' Broc Cheddar Soup\": 780, 'Feta Bruschetta Flatbread': 770, 'Roasted Red Pepper & Tomato Soup': 1020, 'Classic Calamari': 1200, 'Say Cheese Garlic Twists': 980, 'Flat Pan Nachos': 650, \"Roadie's Fav Fried Pickles\": 750, 'Popcorn Shrimp': 690, 'Tasty Tacos': 780}\n"
     ]
    }
   ],
   "source": [
    "print(food_calories)"
   ]
  },
  {
   "cell_type": "code",
   "execution_count": 48,
   "metadata": {},
   "outputs": [
    {
     "name": "stdout",
     "output_type": "stream",
     "text": [
      "Day 1 : \n",
      "\tBreakfast : Hot Breakfast Sandwich with Bacon\n",
      "\t\tBreakfast Calories : 120\n",
      "\tLunch : 1/2 Feta Brachuetta Flatbread 'N' Salad Combo\n",
      "\t\tLunch Calories : 470\n",
      "\tDinner : Roasted Red Pepper & Tomato Soup\n",
      "\t\tDinner Calories : 1020\n",
      "\n",
      "\tTotal Calories for the day : 1610\n",
      "\n",
      "Day 2 : \n",
      "\tBreakfast : Breakfast Snacks\n",
      "\t\tBreakfast Calories : 550\n",
      "\tLunch : 1/2 Alfredo Chicken Pasta 'N' Salad Combo\n",
      "\t\tLunch Calories : 840\n",
      "\tDinner : Classic Calamari\n",
      "\t\tDinner Calories : 1200\n",
      "\n",
      "\tTotal Calories for the day : 2590\n",
      "\n",
      "Day 3 : \n",
      "\tBreakfast : Bagel B.E.L.T with Sausage\n",
      "\t\tBreakfast Calories : 420\n",
      "\tLunch : Grilled Cheese N' Soup Combo\n",
      "\t\tLunch Calories : 870\n",
      "\tDinner : Quesadilla\n",
      "\t\tDinner Calories : 890\n",
      "\n",
      "\tTotal Calories for the day : 2180\n",
      "\n",
      "Day 4 : \n",
      "\tBreakfast : Bagel B.E.L.T with Seasoned Egg\n",
      "\t\tBreakfast Calories : 350\n",
      "\tLunch : 1/2 Feta Brachuetta Flatbread 'N' Salad Combo\n",
      "\t\tLunch Calories : 470\n",
      "\tDinner : Rockin' Broc Cheddar Soup\n",
      "\t\tDinner Calories : 780\n",
      "\n",
      "\tTotal Calories for the day : 1600\n",
      "\n",
      "Day 5 : \n",
      "\tBreakfast : Three Eggs with Ham\n",
      "\t\tBreakfast Calories : 600\n",
      "\tLunch : 1/2 Alfredo Chicken Pasta 'N' Salad Combo\n",
      "\t\tLunch Calories : 840\n",
      "\tDinner : Tasty Tacos\n",
      "\t\tDinner Calories : 780\n",
      "\n",
      "\tTotal Calories for the day : 2220\n",
      "\n",
      "Day 6 : \n",
      "\tBreakfast : Homestyle Oatmeal Maple\n",
      "\t\tBreakfast Calories : 455\n",
      "\tLunch : 1/2 Feta Brachuetta Flatbread 'N' Salad Combo\n",
      "\t\tLunch Calories : 470\n",
      "\tDinner : Tasty Tacos\n",
      "\t\tDinner Calories : 780\n",
      "\n",
      "\tTotal Calories for the day : 1705\n",
      "\n",
      "Day 7 : \n",
      "\tBreakfast : Three Eggs with Sausages\n",
      "\t\tBreakfast Calories : 220\n",
      "\tLunch : Grilled Cheese N' Soup Combo\n",
      "\t\tLunch Calories : 870\n",
      "\tDinner : Popcorn Shrimp\n",
      "\t\tDinner Calories : 690\n",
      "\n",
      "\tTotal Calories for the day : 1780\n",
      "\n"
     ]
    }
   ],
   "source": [
    "for i in range(7):\n",
    "    bfRandomIndex = random.randint(0, len(breakfast_items)-1)\n",
    "    lunchRandomIndex = random.randint(0, len(lunch_items)-1)\n",
    "    dinnerRandomIndex = random.randint(0, len(dinner_items)-1)\n",
    "    \n",
    "    #print(\"bfindex [\"+str(bfRandomIndex)+\"], lunchindex[\"+str(lunchRandomIndex)+\"]\")\n",
    "    \n",
    "    break_fast = breakfast_items[bfRandomIndex]\n",
    "    lunch = lunch_items[lunchRandomIndex]\n",
    "    dinner = dinner_items[dinnerRandomIndex]\n",
    "    \n",
    "    breakfast_calories = food_calories[break_fast]\n",
    "    lunch_calories = food_calories[lunch]\n",
    "    dinner_calories = food_calories[dinner]\n",
    "    \n",
    "    print(\"Day \"+str(i+1)+\" : \")\n",
    "    print(\"\\tBreakfast : \"+break_fast)\n",
    "    print(\"\\t\\tBreakfast Calories : \"+str(breakfast_calories))\n",
    "    \n",
    "    print(\"\\tLunch : \"+lunch)\n",
    "    print(\"\\t\\tLunch Calories : \"+str(lunch_calories))\n",
    "    \n",
    "    print(\"\\tDinner : \"+dinner)\n",
    "    print(\"\\t\\tDinner Calories : \"+str(dinner_calories))\n",
    "    \n",
    "    print(\"\\n\\tTotal Calories for the day : \"+ str( breakfast_calories + lunch_calories + dinner_calories))\n",
    "    \n",
    "    print(\"\")"
   ]
  },
  {
   "cell_type": "code",
   "execution_count": null,
   "metadata": {},
   "outputs": [],
   "source": []
  }
 ],
 "metadata": {
  "kernelspec": {
   "display_name": "Python 3",
   "language": "python",
   "name": "python3"
  },
  "language_info": {
   "codemirror_mode": {
    "name": "ipython",
    "version": 3
   },
   "file_extension": ".py",
   "mimetype": "text/x-python",
   "name": "python",
   "nbconvert_exporter": "python",
   "pygments_lexer": "ipython3",
   "version": "3.6.5"
  }
 },
 "nbformat": 4,
 "nbformat_minor": 2
}
