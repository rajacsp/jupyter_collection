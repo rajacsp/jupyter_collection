{
 "cells": [
  {
   "cell_type": "code",
   "execution_count": 1,
   "metadata": {},
   "outputs": [],
   "source": [
    "import pandas as pd\n",
    "import matplotlib.pyplot as plt\n",
    "import numpy as np\n",
    "import seaborn as sns\n",
    "sns.set()"
   ]
  },
  {
   "cell_type": "code",
   "execution_count": 2,
   "metadata": {},
   "outputs": [
    {
     "name": "stdout",
     "output_type": "stream",
     "text": [
      "     year      month  questions\n",
      "0    2008    January          0\n",
      "1    2008   February          0\n",
      "2    2008      March          0\n",
      "3    2008      April          0\n",
      "4    2008        May          0\n",
      "5    2008       June          0\n",
      "6    2008       July          0\n",
      "7    2008     August        126\n",
      "8    2008  September        430\n",
      "9    2008    October        453\n",
      "10   2008   November        513\n",
      "11   2008   December        545\n",
      "12   2009    January        632\n",
      "13   2009   February        633\n",
      "14   2009      March        766\n",
      "15   2009      April        768\n",
      "16   2009        May       1003\n",
      "17   2009       June       1046\n",
      "18   2009       July       1143\n",
      "19   2009     August       1165\n",
      "20   2009  September       1169\n",
      "21   2009    October       1424\n",
      "22   2009   November       1552\n",
      "23   2009   December       1562\n",
      "24   2010    January       1817\n",
      "25   2010   February       1872\n",
      "26   2010      March       1953\n",
      "27   2010      April       2017\n",
      "28   2010        May       2076\n",
      "29   2010       June       2214\n",
      "..    ...        ...        ...\n",
      "78   2014       July      11524\n",
      "79   2014     August      11686\n",
      "80   2014  September      11891\n",
      "81   2014    October      12386\n",
      "82   2014   November      12394\n",
      "83   2014   December      12580\n",
      "84   2015    January      12424\n",
      "85   2015   February      12440\n",
      "86   2015      March      12893\n",
      "87   2015      April      12949\n",
      "88   2015        May      13012\n",
      "89   2015       June      13014\n",
      "90   2015       July      13208\n",
      "91   2015     August      13334\n",
      "92   2015  September      13622\n",
      "93   2015    October      13777\n",
      "94   2015   November      14176\n",
      "95   2015   December      14303\n",
      "96   2016    January      14394\n",
      "97   2016   February      14903\n",
      "98   2016      March      15757\n",
      "99   2016      April      16181\n",
      "100  2016        May      16214\n",
      "101  2016       June      16304\n",
      "102  2016       July      16955\n",
      "103  2016     August      17288\n",
      "104  2016  September      17980\n",
      "105  2016    October      18006\n",
      "106  2016   November      18745\n",
      "107  2016   December      18946\n",
      "\n",
      "[108 rows x 3 columns]\n",
      "<class 'pandas.core.frame.DataFrame'>\n",
      "(108, 3)\n"
     ]
    }
   ],
   "source": [
    "df = pd.read_csv('python_st_questions.csv')\n",
    "\n",
    "print(df)\n",
    "print(type(df))\n",
    "print(df.shape)"
   ]
  },
  {
   "cell_type": "code",
   "execution_count": 4,
   "metadata": {},
   "outputs": [],
   "source": [
    "series_python = df[\"questions\"]"
   ]
  },
  {
   "cell_type": "code",
   "execution_count": 5,
   "metadata": {},
   "outputs": [
    {
     "name": "stdout",
     "output_type": "stream",
     "text": [
      "0          0\n",
      "1          0\n",
      "2          0\n",
      "3          0\n",
      "4          0\n",
      "5          0\n",
      "6          0\n",
      "7        126\n",
      "8        430\n",
      "9        453\n",
      "10       513\n",
      "11       545\n",
      "12       632\n",
      "13       633\n",
      "14       766\n",
      "15       768\n",
      "16      1003\n",
      "17      1046\n",
      "18      1143\n",
      "19      1165\n",
      "20      1169\n",
      "21      1424\n",
      "22      1552\n",
      "23      1562\n",
      "24      1817\n",
      "25      1872\n",
      "26      1953\n",
      "27      2017\n",
      "28      2076\n",
      "29      2214\n",
      "       ...  \n",
      "78     11524\n",
      "79     11686\n",
      "80     11891\n",
      "81     12386\n",
      "82     12394\n",
      "83     12580\n",
      "84     12424\n",
      "85     12440\n",
      "86     12893\n",
      "87     12949\n",
      "88     13012\n",
      "89     13014\n",
      "90     13208\n",
      "91     13334\n",
      "92     13622\n",
      "93     13777\n",
      "94     14176\n",
      "95     14303\n",
      "96     14394\n",
      "97     14903\n",
      "98     15757\n",
      "99     16181\n",
      "100    16214\n",
      "101    16304\n",
      "102    16955\n",
      "103    17288\n",
      "104    17980\n",
      "105    18006\n",
      "106    18745\n",
      "107    18946\n",
      "Name: questions, Length: 108, dtype: int64\n"
     ]
    }
   ],
   "source": [
    "print(series_python)"
   ]
  },
  {
   "cell_type": "code",
   "execution_count": 9,
   "metadata": {},
   "outputs": [],
   "source": [
    "series_python = series_python.cumsum()"
   ]
  },
  {
   "cell_type": "code",
   "execution_count": 11,
   "metadata": {},
   "outputs": [
    {
     "data": {
      "text/plain": [
       "<matplotlib.axes._subplots.AxesSubplot at 0x2e744c795c0>"
      ]
     },
     "execution_count": 11,
     "metadata": {},
     "output_type": "execute_result"
    },
    {
     "data": {
      "image/png": "[encoded data removed]",
      "text/plain": [
       "<Figure size 432x288 with 1 Axes>"
      ]
     },
     "metadata": {},
     "output_type": "display_data"
    }
   ],
   "source": [
    "series_python.plot()"
   ]
  }
 ],
 "metadata": {
  "kernelspec": {
   "display_name": "Python 3",
   "language": "python",
   "name": "python3"
  },
  "language_info": {
   "codemirror_mode": {
    "name": "ipython",
    "version": 3
   },
   "file_extension": ".py",
   "mimetype": "text/x-python",
   "name": "python",
   "nbconvert_exporter": "python",
   "pygments_lexer": "ipython3",
   "version": "3.6.5"
  }
 },
 "nbformat": 4,
 "nbformat_minor": 2
}
