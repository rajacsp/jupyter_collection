{
 "cells": [
  {
   "cell_type": "code",
   "execution_count": 2,
   "metadata": {},
   "outputs": [
    {
     "name": "stdout",
     "output_type": "stream",
     "text": [
      "Select count(*) as count from Posts where Tags like '%<python>%' AND (Posts.CreationDate > '2016-01-01' AND Posts.CreationDate < '2016-02-01')\n",
      "UNION\n",
      "Select count(*) as count from Posts where Tags like '%<python>%' AND (Posts.CreationDate > '2016-02-01' AND Posts.CreationDate < '2016-03-01')\n",
      "UNION\n",
      "Select count(*) as count from Posts where Tags like '%<python>%' AND (Posts.CreationDate > '2016-03-01' AND Posts.CreationDate < '2016-04-01')\n",
      "UNION\n",
      "Select count(*) as count from Posts where Tags like '%<python>%' AND (Posts.CreationDate > '2016-04-01' AND Posts.CreationDate < '2016-05-01')\n",
      "UNION\n",
      "Select count(*) as count from Posts where Tags like '%<python>%' AND (Posts.CreationDate > '2016-05-01' AND Posts.CreationDate < '2016-06-01')\n",
      "UNION\n",
      "Select count(*) as count from Posts where Tags like '%<python>%' AND (Posts.CreationDate > '2016-06-01' AND Posts.CreationDate < '2016-07-01')\n",
      "UNION\n",
      "Select count(*) as count from Posts where Tags like '%<python>%' AND (Posts.CreationDate > '2016-07-01' AND Posts.CreationDate < '2016-08-01')\n",
      "UNION\n",
      "Select count(*) as count from Posts where Tags like '%<python>%' AND (Posts.CreationDate > '2016-08-01' AND Posts.CreationDate < '2016-09-01')\n",
      "UNION\n",
      "Select count(*) as count from Posts where Tags like '%<python>%' AND (Posts.CreationDate > '2016-09-01' AND Posts.CreationDate < '2016-10-01')\n",
      "UNION\n",
      "Select count(*) as count from Posts where Tags like '%<python>%' AND (Posts.CreationDate > '2016-10-01' AND Posts.CreationDate < '2016-11-01')\n",
      "UNION\n",
      "Select count(*) as count from Posts where Tags like '%<python>%' AND (Posts.CreationDate > '2016-11-01' AND Posts.CreationDate < '2016-12-01')\n",
      "UNION\n",
      "Select count(*) as count from Posts where Tags like '%<python>%' AND (Posts.CreationDate > '2016-12-01' AND Posts.CreationDate < '2016-12-31')\n"
     ]
    }
   ],
   "source": [
    "def print_sql(tag, year):\n",
    "\n",
    "    sql = ''\n",
    "    for x in range(1, 13):\n",
    "        #print(x)\n",
    "        \n",
    "        start = x\n",
    "        end = x + 1\n",
    "        \n",
    "        start_month = str(start) \n",
    "        end_month = str(end)\n",
    "        \n",
    "        if(start < 10):\n",
    "            start_month = str(year)+\"-0\"+str(start)+\"-01\"\n",
    "        else:\n",
    "            start_month = str(year)+\"-\"+str(start)+\"-01\"\n",
    "            \n",
    "        if(end < 10):\n",
    "            end_month = str(year)+\"-0\"+str(end)+\"-01\"\n",
    "        else:\n",
    "            end_month = str(year)+\"-\"+str(end)+\"-01\"\n",
    "            \n",
    "        if(end == 13):\n",
    "            end_month = str(year)+\"-\"+str(end-1)+\"-31\"    \n",
    "           \n",
    "        if(start == 1):\n",
    "            sql += \"Select count(*) as count from Posts where Tags like '%<\"+tag+\">%' AND (Posts.CreationDate > '\"+start_month+\"' AND Posts.CreationDate < '\"+end_month+\"')\";\n",
    "        else:\n",
    "            sql += \"\\nUNION\\nSelect count(*) as count from Posts where Tags like '%<\"+tag+\">%' AND (Posts.CreationDate > '\"+start_month+\"' AND Posts.CreationDate < '\"+end_month+\"')\";\n",
    "        \n",
    "    print(sql)\n",
    "    \n",
    "\n",
    "print_sql('python', 2016)"
   ]
  },
  {
   "cell_type": "code",
   "execution_count": 3,
   "metadata": {},
   "outputs": [
    {
     "name": "stdout",
     "output_type": "stream",
     "text": [
      "Select count(*) as count from Posts where Tags like '%<python>%' AND (Posts.CreationDate > '2017-01-01' AND Posts.CreationDate < '2017-02-01')\n",
      "UNION\n",
      "Select count(*) as count from Posts where Tags like '%<python>%' AND (Posts.CreationDate > '2017-02-01' AND Posts.CreationDate < '2017-03-01')\n",
      "UNION\n",
      "Select count(*) as count from Posts where Tags like '%<python>%' AND (Posts.CreationDate > '2017-03-01' AND Posts.CreationDate < '2017-04-01')\n",
      "UNION\n",
      "Select count(*) as count from Posts where Tags like '%<python>%' AND (Posts.CreationDate > '2017-04-01' AND Posts.CreationDate < '2017-05-01')\n",
      "UNION\n",
      "Select count(*) as count from Posts where Tags like '%<python>%' AND (Posts.CreationDate > '2017-05-01' AND Posts.CreationDate < '2017-06-01')\n",
      "UNION\n",
      "Select count(*) as count from Posts where Tags like '%<python>%' AND (Posts.CreationDate > '2017-06-01' AND Posts.CreationDate < '2017-07-01')\n",
      "UNION\n",
      "Select count(*) as count from Posts where Tags like '%<python>%' AND (Posts.CreationDate > '2017-07-01' AND Posts.CreationDate < '2017-08-01')\n",
      "UNION\n",
      "Select count(*) as count from Posts where Tags like '%<python>%' AND (Posts.CreationDate > '2017-08-01' AND Posts.CreationDate < '2017-09-01')\n",
      "UNION\n",
      "Select count(*) as count from Posts where Tags like '%<python>%' AND (Posts.CreationDate > '2017-09-01' AND Posts.CreationDate < '2017-10-01')\n",
      "UNION\n",
      "Select count(*) as count from Posts where Tags like '%<python>%' AND (Posts.CreationDate > '2017-10-01' AND Posts.CreationDate < '2017-11-01')\n",
      "UNION\n",
      "Select count(*) as count from Posts where Tags like '%<python>%' AND (Posts.CreationDate > '2017-11-01' AND Posts.CreationDate < '2017-12-01')\n",
      "UNION\n",
      "Select count(*) as count from Posts where Tags like '%<python>%' AND (Posts.CreationDate > '2017-12-01' AND Posts.CreationDate < '2017-12-31')\n"
     ]
    }
   ],
   "source": [
    "print_sql('python', 2017)"
   ]
  },
  {
   "cell_type": "code",
   "execution_count": 4,
   "metadata": {},
   "outputs": [
    {
     "name": "stdout",
     "output_type": "stream",
     "text": [
      "Select count(*) as count from Posts where Tags like '%<python>%' AND (Posts.CreationDate > '2015-01-01' AND Posts.CreationDate < '2015-02-01')\n",
      "UNION\n",
      "Select count(*) as count from Posts where Tags like '%<python>%' AND (Posts.CreationDate > '2015-02-01' AND Posts.CreationDate < '2015-03-01')\n",
      "UNION\n",
      "Select count(*) as count from Posts where Tags like '%<python>%' AND (Posts.CreationDate > '2015-03-01' AND Posts.CreationDate < '2015-04-01')\n",
      "UNION\n",
      "Select count(*) as count from Posts where Tags like '%<python>%' AND (Posts.CreationDate > '2015-04-01' AND Posts.CreationDate < '2015-05-01')\n",
      "UNION\n",
      "Select count(*) as count from Posts where Tags like '%<python>%' AND (Posts.CreationDate > '2015-05-01' AND Posts.CreationDate < '2015-06-01')\n",
      "UNION\n",
      "Select count(*) as count from Posts where Tags like '%<python>%' AND (Posts.CreationDate > '2015-06-01' AND Posts.CreationDate < '2015-07-01')\n",
      "UNION\n",
      "Select count(*) as count from Posts where Tags like '%<python>%' AND (Posts.CreationDate > '2015-07-01' AND Posts.CreationDate < '2015-08-01')\n",
      "UNION\n",
      "Select count(*) as count from Posts where Tags like '%<python>%' AND (Posts.CreationDate > '2015-08-01' AND Posts.CreationDate < '2015-09-01')\n",
      "UNION\n",
      "Select count(*) as count from Posts where Tags like '%<python>%' AND (Posts.CreationDate > '2015-09-01' AND Posts.CreationDate < '2015-10-01')\n",
      "UNION\n",
      "Select count(*) as count from Posts where Tags like '%<python>%' AND (Posts.CreationDate > '2015-10-01' AND Posts.CreationDate < '2015-11-01')\n",
      "UNION\n",
      "Select count(*) as count from Posts where Tags like '%<python>%' AND (Posts.CreationDate > '2015-11-01' AND Posts.CreationDate < '2015-12-01')\n",
      "UNION\n",
      "Select count(*) as count from Posts where Tags like '%<python>%' AND (Posts.CreationDate > '2015-12-01' AND Posts.CreationDate < '2015-12-31')\n"
     ]
    }
   ],
   "source": [
    "print_sql('python', 2015)"
   ]
  },
  {
   "cell_type": "code",
   "execution_count": null,
   "metadata": {},
   "outputs": [],
   "source": []
  }
 ],
 "metadata": {
  "kernelspec": {
   "display_name": "Python 3",
   "language": "python",
   "name": "python3"
  },
  "language_info": {
   "codemirror_mode": {
    "name": "ipython",
    "version": 3
   },
   "file_extension": ".py",
   "mimetype": "text/x-python",
   "name": "python",
   "nbconvert_exporter": "python",
   "pygments_lexer": "ipython3",
   "version": "3.6.5"
  }
 },
 "nbformat": 4,
 "nbformat_minor": 2
}
